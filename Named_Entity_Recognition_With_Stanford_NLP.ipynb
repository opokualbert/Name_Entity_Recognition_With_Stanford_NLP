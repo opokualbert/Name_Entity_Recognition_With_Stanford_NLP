{
 "cells": [
  {
   "cell_type": "code",
   "execution_count": 1,
   "metadata": {},
   "outputs": [],
   "source": [
    "#Make sure you have java.exe in this location\n",
    "import os\n",
    "java_path = \"C:/Program Files/Java/jre1.8.0_211/bin/java.exe\"\n",
    "os.environ['JAVAHOME'] = java_path"
   ]
  },
  {
   "cell_type": "code",
   "execution_count": 2,
   "metadata": {},
   "outputs": [],
   "source": [
    "#Loading packages and creating a function to capture the entities, credit to Omar Bahareth\n",
    "\n",
    "from nltk.tag.stanford import StanfordNERTagger\n",
    "from nltk.tokenize import word_tokenize\n",
    "\n",
    "def formatted_entities(classified_paragraphs_list):\n",
    "    entities = {'persons': list(), 'organizations': list(), 'locations': list(), 'dates': list(), 'money': list(), 'percent': list()}\n",
    "\n",
    "    for classified_paragraph in classified_paragraphs_list:\n",
    "        for entry in classified_paragraph:\n",
    "            entry_value = entry[0]\n",
    "            entry_type = entry[1]\n",
    "\n",
    "            if entry_type == 'PERSON':\n",
    "                entities['persons'].append(entry_value)\n",
    "\n",
    "            elif entry_type == 'ORGANIZATION':\n",
    "                entities['organizations'].append(entry_value)\n",
    "\n",
    "            elif entry_type == 'LOCATION':\n",
    "                entities['locations'].append(entry_value)\n",
    "            elif entry_type == 'DATE':\n",
    "                entities['dates'].append(entry_value)\n",
    "            elif entry_type == 'MONEY':\n",
    "                entities['money'].append(entry_value)\n",
    "            elif entry_type == 'PERCENT':\n",
    "                entities['percent'].append(entry_value)\n",
    "    return entities"
   ]
  },
  {
   "cell_type": "code",
   "execution_count": 3,
   "metadata": {},
   "outputs": [],
   "source": [
    "#Download stanford-ner-2018-10-16 and unzip to get  english.muc.7class.distsim.crf.ser.gz and stanford-ner.jar files. Save them\n",
    "#in the appropraite folder\n",
    "tagger = StanfordNERTagger('/Users/Shared/stanford-ner/classifiers/english.muc.7class.distsim.crf.ser.gz',\n",
    "               '/Users/Shared/stanford-ner/stanford-ner.jar',\n",
    "               encoding='utf-8')"
   ]
  },
  {
   "cell_type": "code",
   "execution_count": 4,
   "metadata": {
    "scrolled": true
   },
   "outputs": [],
   "source": [
    "#Import spacy to extract the data from the text file\n",
    "import spacy,en_core_web_sm\n",
    "import pandas as pd\n",
    "\n",
    "# Read the text file\n",
    "nlp = en_core_web_sm.load()\n",
    "doc = nlp(open('African_Fintech.txt', encoding=\"utf8\").read())"
   ]
  },
  {
   "cell_type": "code",
   "execution_count": 5,
   "metadata": {
    "scrolled": false
   },
   "outputs": [
    {
     "data": {
      "text/plain": [
       "African fintech has taken center stage for the Catalyst Fund, a JP Morgan Chase and Bill & Melinda Gates Foundation-backed accelerator that provides mentorship and non-equity funding to emerging markets startups.\n",
       "\n",
       "The organization announced its 2019 startup cohort and three out of the four finance ventures — Chipper Cash, Salutat and Turaco — have an Africa focus (Brazil-based venture Diin, was the fourth).\n",
       "\n",
       "Catalyst Fund, which is managed by global tech consulting firm BFA,  also released its latest evaluation report, which showed 60% of the organization’s portfolio startups are located in Africa.\n",
       "\n",
       "The new additions to the fund’s program will gain $50,000 to $60,000 in non-equity venture building support (as Catalyst Fund dubs it) and six months of technical assistance. The funds and support are aimed at moving the ventures to the next phase of catalyzing business models, generating revenue and connecting to global VCs.\n",
       "\n",
       "“We really tailor the kind of help we give to companies so they can reach market fit and proof points that investors want to see to enable the next phase of growth,” BFA  Deputy Director Maelis Carraro told TechCrunch.\n",
       "\n",
       "Catalyst Fund’s 2019 startup cohort also gained exposure to the fund’s Circle of Investors — a network of impact and commercial backers who can make decisions on investing in and accelerating particular companies.\n",
       "\n",
       "Next Big Thing and Deciens Capital recently joined the group of 40 investors that includes Techstars and the Mastercard Foundation.\n",
       "\n",
       "\n",
       "\n",
       "The tenor for support for Catalyst Fund’s newest cohort of startups lasts through 2019. The ventures will also attend the big SOCAP 2019 tech conference in San Francisco, where Catalyst organizes workshops and meetings with its Circle of Investors.\n",
       "\n",
       "Founded in 2016, the Catalyst Fund’s mandate includes supporting fintech startups that are developing solutions for low-income individuals in emerging markets. The organization has accelerated 20 ventures in Africa, Asia and Latin America that have raised $25.7 million in follow-on capital, according to its latest report.\n",
       "\n",
       "With the Bill & Melinda Gates Foundation and JP Morgan Chase  as the lead backers, Catalyst Fund partners also include Rockefeller Philanthropy Advisors and Accion.\n",
       "\n",
       "JP Morgan Chase’s interest in supporting Catalyst Fund connects to a firm-wide commitment of the global bank to financial inclusion, according to JP Morgan’s Head of Community Innovation Colleen Briggs — who is also a day-to-day Catalyst Fund manager.\n",
       "\n",
       "JP Morgan recently launched a $125 million, five-year commitment to improve global financial health, she explained. “For us there is a true market opportunity…we genuinely believe that financial inclusion is the foundation for the economy,” Briggs said.\n",
       "\n",
       "“If we don’t get the social issues right it undermines the resiliency of the communities and the markets where we’re trying to operate.”\n",
       "\n",
       "That Catalyst Fund’s cohorts have shifted toward Africa focused ventures speaks to the thesis for fintech on the continent.\n",
       "\n",
       "By a number of estimates, Africa’s 1.2 billion people represent the largest share of the world’s unbanked and underbanked population.\n",
       "\n",
       "An improving smartphone and mobile-connectivity profile for Africa (see GSMA) turns this scenario into an opportunity for mobile-based financial products.\n",
       "\n",
       "Hundreds of startups are descending on Africa’s fintech space, looking to offer scalable solutions for the continent’s financial needs. By stats offered by Briter Bridges and a 2018 WeeTracker survey, fintech now receives the bulk of VC capital and deal-flow to African startups.\n",
       "\n",
       "Ventures such as Catalyst Fund cohort member Chipper Cash — co-founded by Ugandan Ham Serunjogi and Ghanaian Maijid Moujaled — are looking to grow across Africa first before considering any global moves.\n",
       "\n",
       "\n",
       "\n",
       "The company plans to introduce its no-fee, P2P, cross-border mobile-money payments products beyond current operations in Ghana and Kenya to Rwanda, Tanzania and Uganda within the next 12 months.\n",
       "\n",
       "Ventures looking to join companies like Chipper Cash as a Catalyst Fund-supported startup can seek a referral from Catalyst’s Circle of Investors — who make a recommendations on new candidates. Catalyst Fund aims to choose 30 startups for its cohort over the next three years, according to program director David del Ser."
      ]
     },
     "execution_count": 5,
     "metadata": {},
     "output_type": "execute_result"
    }
   ],
   "source": [
    "doc\n"
   ]
  },
  {
   "cell_type": "code",
   "execution_count": 6,
   "metadata": {
    "scrolled": true
   },
   "outputs": [
    {
     "name": "stdout",
     "output_type": "stream",
     "text": [
      "There are 37 Sentences in this article\n"
     ]
    },
    {
     "data": {
      "text/html": [
       "<div>\n",
       "<style scoped>\n",
       "    .dataframe tbody tr th:only-of-type {\n",
       "        vertical-align: middle;\n",
       "    }\n",
       "\n",
       "    .dataframe tbody tr th {\n",
       "        vertical-align: top;\n",
       "    }\n",
       "\n",
       "    .dataframe thead th {\n",
       "        text-align: right;\n",
       "    }\n",
       "</style>\n",
       "<table border=\"1\" class=\"dataframe\">\n",
       "  <thead>\n",
       "    <tr style=\"text-align: right;\">\n",
       "      <th></th>\n",
       "      <th>sentence</th>\n",
       "    </tr>\n",
       "    <tr>\n",
       "      <th>id</th>\n",
       "      <th></th>\n",
       "    </tr>\n",
       "  </thead>\n",
       "  <tbody>\n",
       "    <tr>\n",
       "      <th>0</th>\n",
       "      <td>African fintech has taken center stage for the...</td>\n",
       "    </tr>\n",
       "    <tr>\n",
       "      <th>1</th>\n",
       "      <td>The organization announced its 2019 startup co...</td>\n",
       "    </tr>\n",
       "    <tr>\n",
       "      <th>2</th>\n",
       "      <td>Catalyst Fund, which is managed by global tech...</td>\n",
       "    </tr>\n",
       "    <tr>\n",
       "      <th>3</th>\n",
       "      <td>The new additions to the fund’s program will g...</td>\n",
       "    </tr>\n",
       "    <tr>\n",
       "      <th>4</th>\n",
       "      <td>The funds and support are aimed at moving the ...</td>\n",
       "    </tr>\n",
       "  </tbody>\n",
       "</table>\n",
       "</div>"
      ],
      "text/plain": [
       "                                             sentence\n",
       "id                                                   \n",
       "0   African fintech has taken center stage for the...\n",
       "1   The organization announced its 2019 startup co...\n",
       "2   Catalyst Fund, which is managed by global tech...\n",
       "3   The new additions to the fund’s program will g...\n",
       "4   The funds and support are aimed at moving the ..."
      ]
     },
     "execution_count": 6,
     "metadata": {},
     "output_type": "execute_result"
    }
   ],
   "source": [
    "#Create a dataframe that has tokenized sentences in a column\n",
    "d = []\n",
    "for idno, sentence in enumerate(doc.sents):\n",
    "    d.append({\"id\": idno, \"sentence\":str(sentence)})\n",
    "\n",
    "df = pd.DataFrame(d)\n",
    "df.set_index('id', inplace=True)\n",
    "\n",
    "#How many sentences are in the document?\n",
    "print('There are {}'.format(len(d)) ,'Sentences in this article')\n",
    "df.head()"
   ]
  },
  {
   "cell_type": "code",
   "execution_count": 7,
   "metadata": {},
   "outputs": [],
   "source": [
    "#set the sentences column to list\n",
    "df1=df.sentence.tolist()"
   ]
  },
  {
   "cell_type": "code",
   "execution_count": 8,
   "metadata": {},
   "outputs": [
    {
     "name": "stdout",
     "output_type": "stream",
     "text": [
      "{'persons': ['Maelis', 'Carraro', 'Colleen', 'Briggs', 'Briggs', 'David', 'del', 'Ser'], 'organizations': ['JP', 'Morgan', 'Chase', 'Bill', '&', 'Melinda', 'Gates', 'BFA', 'BFA', 'Mastercard', 'Foundation', 'Circle', 'of', 'Investors', 'Bill', '&', 'Melinda', 'Gates', 'Foundation', 'JP', 'Morgan', 'Chase', 'Rockefeller', 'Philanthropy', 'Advisors', 'JP', 'Morgan', 'Chase', 'JP', 'Morgan', '’', 's', 'Head', 'of', 'Community', 'JP', 'Morgan', 'fintech', 'Briter', 'Bridges', 'fintech', 'Ugandan', 'Ham', 'Serunjogi'], 'locations': ['Africa', 'Africa', 'San', 'Francisco', 'Africa', 'Asia', 'Latin', 'America', 'Africa', 'Africa', 'Africa', 'Africa', 'Africa', 'Ghana', 'Kenya', 'Rwanda', 'Tanzania', 'Uganda'], 'dates': ['2019', '2019', '2019', '2019', '2016', '2018'], 'money': ['$', '50,000', '$', '60,000', '$', '25.7', 'million', '$', '125', 'million'], 'percent': ['60', '%']}\n"
     ]
    }
   ],
   "source": [
    "#Get a dictionary of all the entities you specified above.\n",
    "\n",
    "tokenized_paragraphs = list()\n",
    "\n",
    "for text in df1:\n",
    "    tokenized_paragraphs.append(word_tokenize(text))\n",
    "\n",
    "classified_paragraphs_list = tagger.tag_sents(tokenized_paragraphs)\n",
    "\n",
    "\n",
    "formatted_result = formatted_entities(classified_paragraphs_list)\n",
    "print(formatted_result)"
   ]
  }
 ],
 "metadata": {
  "kernelspec": {
   "display_name": "Python 3",
   "language": "python",
   "name": "python3"
  },
  "language_info": {
   "codemirror_mode": {
    "name": "ipython",
    "version": 3
   },
   "file_extension": ".py",
   "mimetype": "text/x-python",
   "name": "python",
   "nbconvert_exporter": "python",
   "pygments_lexer": "ipython3",
   "version": "3.6.5"
  }
 },
 "nbformat": 4,
 "nbformat_minor": 2
}
